{
 "cells": [
  {
   "cell_type": "code",
   "execution_count": 14,
   "id": "9b3c1e10-f42b-4343-9c9c-dc93a403cd02",
   "metadata": {},
   "outputs": [],
   "source": [
    "import pandas as pd\n",
    "from pathlib import Path\n",
    "from collections import defaultdict"
   ]
  },
  {
   "cell_type": "code",
   "execution_count": 47,
   "id": "84073973-3670-4364-9ee3-76250669dc59",
   "metadata": {},
   "outputs": [],
   "source": [
    "INDEX = \"MS50\"\n",
    "folder_path = Path(f\"data{INDEX}\")\n",
    "files = [f.name for f in folder_path.iterdir() if f.is_file()]"
   ]
  },
  {
   "cell_type": "code",
   "execution_count": 48,
   "id": "9656e26d",
   "metadata": {},
   "outputs": [],
   "source": [
    "ticker_counts = defaultdict(int) #dict, inizializza a 0 key non esistenti\n",
    "\n",
    "for file in folder_path.iterdir():\n",
    "    ticker = file.stem.split(\"_\")[0]\n",
    "    try:\n",
    "        with file.open(\"r\", encoding=\"utf-8\") as f:\n",
    "            num_lines = sum(1 for _ in f) - 1  # -1 per togliere l'intestazione\n",
    "            ticker_counts[ticker] += max(0, num_lines)  # Evita valori negativi\n",
    "    except Exception as e:\n",
    "        print(f\"Errore nel file {file.name}: {e}\")"
   ]
  },
  {
   "cell_type": "code",
   "execution_count": 49,
   "id": "14fd27e5",
   "metadata": {},
   "outputs": [],
   "source": [
    "data = []\n",
    "for ticker, count in ticker_counts.items():\n",
    "    data.append({ \"Ticker\": ticker, \"NumElem_1Y\": count, \"NumElem_1W\": round( count/48, 1) })"
   ]
  },
  {
   "cell_type": "code",
   "execution_count": 50,
   "id": "ab1ecc8f",
   "metadata": {},
   "outputs": [],
   "source": [
    "df = pd.DataFrame( data )\n",
    "df.to_csv( f\"num_elem_{INDEX}.csv\", index=None )"
   ]
  },
  {
   "cell_type": "code",
   "execution_count": null,
   "id": "9b254934",
   "metadata": {},
   "outputs": [],
   "source": []
  }
 ],
 "metadata": {
  "kernelspec": {
   "display_name": "finance",
   "language": "python",
   "name": "python3"
  },
  "language_info": {
   "codemirror_mode": {
    "name": "ipython",
    "version": 3
   },
   "file_extension": ".py",
   "mimetype": "text/x-python",
   "name": "python",
   "nbconvert_exporter": "python",
   "pygments_lexer": "ipython3",
   "version": "3.13.2"
  }
 },
 "nbformat": 4,
 "nbformat_minor": 5
}
