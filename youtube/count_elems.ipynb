{
 "cells": [
  {
   "cell_type": "code",
   "execution_count": 1,
   "id": "9b3c1e10-f42b-4343-9c9c-dc93a403cd02",
   "metadata": {},
   "outputs": [],
   "source": [
    "import pandas as pd\n",
    "from pathlib import Path\n",
    "from collections import defaultdict"
   ]
  },
  {
   "cell_type": "code",
   "execution_count": 2,
   "id": "84073973-3670-4364-9ee3-76250669dc59",
   "metadata": {},
   "outputs": [],
   "source": [
    "INDEX = \"SP500\"\n",
    "folder_path = Path(f\"data{INDEX}\")\n",
    "files = [f.name for f in folder_path.iterdir() if f.is_file()]"
   ]
  },
  {
   "cell_type": "code",
   "execution_count": 5,
   "id": "9656e26d",
   "metadata": {},
   "outputs": [],
   "source": [
    "posts_per_day = defaultdict(lambda: [0, 0])   #dict, inizializza a 0 key non esistenti\n",
    "\n",
    "for file in folder_path.iterdir():\n",
    "    ticker = file.stem.split(\"_\")[0]\n",
    "    try:\n",
    "        df = pd.read_csv(file)\n",
    "        if not df.empty:\n",
    "            if \"comments\" in file.stem:\n",
    "                df[\"date\"] = pd.to_datetime(df[\"commentDate\"], errors=\"coerce\")\n",
    "            else:\n",
    "                df[\"date\"] = pd.to_datetime(df[\"videoDate\"], errors=\"coerce\")\n",
    "            time_delta = ( df[\"date\"].max() - df[\"date\"].min() ).days + 1\n",
    "            \n",
    "            posts_per_day[ticker][0] += round( len(df) / time_delta , 1 )\n",
    "            posts_per_day[ticker][1] += len(df)\n",
    "\n",
    "\n",
    "    except Exception as e:\n",
    "        print(f\"Errore nel file {file.name}: {e}\")"
   ]
  },
  {
   "cell_type": "code",
   "execution_count": 6,
   "id": "14fd27e5",
   "metadata": {},
   "outputs": [],
   "source": [
    "data = []\n",
    "for ticker, counts in posts_per_day.items():\n",
    "    data.append({ \"Ticker\": ticker, \"TotElems\": counts[1], \"NumElemsPerDay\": round( counts[0], 1), \"NumElemsPerWeek\": round( counts[0]*7, 1) })\n"
   ]
  },
  {
   "cell_type": "code",
   "execution_count": 8,
   "id": "ab1ecc8f",
   "metadata": {},
   "outputs": [],
   "source": [
    "df = pd.DataFrame( data )\n",
    "df.to_csv( f\"num_elem_{INDEX}.csv\", index=None )"
   ]
  },
  {
   "cell_type": "code",
   "execution_count": null,
   "id": "9b254934",
   "metadata": {},
   "outputs": [],
   "source": []
  }
 ],
 "metadata": {
  "kernelspec": {
   "display_name": "finance",
   "language": "python",
   "name": "python3"
  },
  "language_info": {
   "codemirror_mode": {
    "name": "ipython",
    "version": 3
   },
   "file_extension": ".py",
   "mimetype": "text/x-python",
   "name": "python",
   "nbconvert_exporter": "python",
   "pygments_lexer": "ipython3",
   "version": "3.13.2"
  }
 },
 "nbformat": 4,
 "nbformat_minor": 5
}
