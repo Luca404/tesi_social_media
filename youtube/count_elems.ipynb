{
 "cells": [
  {
   "cell_type": "code",
   "execution_count": 1,
   "id": "9b3c1e10-f42b-4343-9c9c-dc93a403cd02",
   "metadata": {},
   "outputs": [],
   "source": [
    "import pandas as pd\n",
    "from pathlib import Path\n",
    "from collections import defaultdict"
   ]
  },
  {
   "cell_type": "code",
   "execution_count": 17,
   "id": "84073973-3670-4364-9ee3-76250669dc59",
   "metadata": {},
   "outputs": [],
   "source": [
    "INDEX = \"SP500\"\n",
    "folder_path = Path(f\"data{INDEX}\")\n",
    "files = [f.name for f in folder_path.iterdir() if f.is_file()]"
   ]
  },
  {
   "cell_type": "code",
   "execution_count": 18,
   "id": "9656e26d",
   "metadata": {},
   "outputs": [],
   "source": [
    "posts_per_day = defaultdict(int)   #dict, inizializza a 0 key non esistenti\n",
    "\n",
    "for file in folder_path.iterdir():\n",
    "    ticker = file.stem.split(\"_\")[0]\n",
    "    try:\n",
    "        df = pd.read_csv(file)\n",
    "        if not df.empty:\n",
    "            if \"comments\" in file.stem:\n",
    "                df[\"date\"] = pd.to_datetime(df[\"commentDate\"], errors=\"coerce\")\n",
    "                time_delta = ( df[\"date\"].max() - df[\"date\"].min() ).days + 1\n",
    "            else:\n",
    "                df[\"date\"] = pd.to_datetime(df[\"videoDate\"], errors=\"coerce\")\n",
    "                time_delta = ( df[\"date\"].max() - df[\"date\"].min() ).days + 1 \n",
    "            \n",
    "            posts_per_day[f\"{ticker}Tot\"] += len(df)\n",
    "            posts_per_day[ticker] += round( len(df) / time_delta , 1 )\n",
    "\n",
    "\n",
    "    except Exception as e:\n",
    "        print(f\"Errore nel file {file.name}: {e}\")"
   ]
  },
  {
   "cell_type": "code",
   "execution_count": 19,
   "id": "14fd27e5",
   "metadata": {},
   "outputs": [],
   "source": [
    "data = []\n",
    "for ticker, count in posts_per_day.items():\n",
    "    if \"Tot\" in ticker:\n",
    "        tot = count\n",
    "    else:\n",
    "        data.append({ \"Ticker\": ticker, \"TotElems\": tot, \"NumElemsPerDay\": round( count, 1), \"NumElemsPerWeek\": round( count*7, 1) })\n"
   ]
  },
  {
   "cell_type": "code",
   "execution_count": 20,
   "id": "ab1ecc8f",
   "metadata": {},
   "outputs": [],
   "source": [
    "df = pd.DataFrame( data )\n",
    "df.to_csv( f\"num_elem_{INDEX}.csv\", index=None )"
   ]
  },
  {
   "cell_type": "code",
   "execution_count": null,
   "id": "9b254934",
   "metadata": {},
   "outputs": [],
   "source": []
  }
 ],
 "metadata": {
  "kernelspec": {
   "display_name": "finance",
   "language": "python",
   "name": "python3"
  },
  "language_info": {
   "codemirror_mode": {
    "name": "ipython",
    "version": 3
   },
   "file_extension": ".py",
   "mimetype": "text/x-python",
   "name": "python",
   "nbconvert_exporter": "python",
   "pygments_lexer": "ipython3",
   "version": "3.13.2"
  }
 },
 "nbformat": 4,
 "nbformat_minor": 5
}
