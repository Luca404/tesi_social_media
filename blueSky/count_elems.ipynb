{
 "cells": [
  {
   "cell_type": "code",
   "execution_count": 32,
   "id": "9b3c1e10-f42b-4343-9c9c-dc93a403cd02",
   "metadata": {},
   "outputs": [],
   "source": [
    "import pandas as pd\n",
    "from pathlib import Path\n",
    "from collections import defaultdict"
   ]
  },
  {
   "cell_type": "code",
   "execution_count": 41,
   "id": "84073973-3670-4364-9ee3-76250669dc59",
   "metadata": {},
   "outputs": [],
   "source": [
    "INDEX = \"SP500\"\n",
    "folder_path = Path(f\"data{INDEX}\")\n",
    "files = [f.name for f in folder_path.iterdir() if f.is_file()]"
   ]
  },
  {
   "cell_type": "code",
   "execution_count": 42,
   "id": "9656e26d",
   "metadata": {},
   "outputs": [],
   "source": [
    "ticker_counts = defaultdict(int) #dict, inizializza a 0 key non esistenti\n",
    "posts_per_day = defaultdict(int)\n",
    "\n",
    "for file in folder_path.iterdir():\n",
    "    ticker = file.stem\n",
    "    try:\n",
    "        df = pd.read_csv(file)\n",
    "        df[\"date\"] = df[\"date\"].astype(str).str.split(\"T\").str[0]\n",
    "        df[\"date\"] = pd.to_datetime(df[\"date\"], errors=\"coerce\")\n",
    "\n",
    "        # Conta i post\n",
    "        ticker_counts[ticker] = len(df)\n",
    "\n",
    "        if not df.empty:\n",
    "            #calcolo i post per day\n",
    "            time_delta = (df[\"date\"].max() - df[\"date\"].min() ).days + 1\n",
    "            posts_per_day[ticker] = round( len(df) / time_delta , 1)\n",
    "        \n",
    "    except Exception as e:\n",
    "        print(f\"Errore nel file {file.name}: {e}\")"
   ]
  },
  {
   "cell_type": "code",
   "execution_count": 43,
   "id": "14fd27e5",
   "metadata": {},
   "outputs": [],
   "source": [
    "data = []\n",
    "for ticker, count in posts_per_day.items():\n",
    "    data.append({ \"Ticker\": ticker, \"NumElemsPerDay\": count, \"NumElemsPerWeek\": round(count*7, 1) })"
   ]
  },
  {
   "cell_type": "code",
   "execution_count": 44,
   "id": "ab1ecc8f",
   "metadata": {},
   "outputs": [],
   "source": [
    "df = pd.DataFrame( data )\n",
    "df.to_csv( f\"num_elem_{INDEX}.csv\", index=None )"
   ]
  },
  {
   "cell_type": "code",
   "execution_count": null,
   "id": "9b254934",
   "metadata": {},
   "outputs": [],
   "source": []
  }
 ],
 "metadata": {
  "kernelspec": {
   "display_name": "finance",
   "language": "python",
   "name": "python3"
  },
  "language_info": {
   "codemirror_mode": {
    "name": "ipython",
    "version": 3
   },
   "file_extension": ".py",
   "mimetype": "text/x-python",
   "name": "python",
   "nbconvert_exporter": "python",
   "pygments_lexer": "ipython3",
   "version": "3.13.2"
  }
 },
 "nbformat": 4,
 "nbformat_minor": 5
}
