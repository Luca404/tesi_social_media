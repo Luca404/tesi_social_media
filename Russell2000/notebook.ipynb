{
 "cells": [
  {
   "cell_type": "code",
   "execution_count": 1,
   "id": "28515a93",
   "metadata": {},
   "outputs": [],
   "source": [
    "import pandas as pd"
   ]
  },
  {
   "cell_type": "code",
   "execution_count": 14,
   "id": "f918989b",
   "metadata": {},
   "outputs": [],
   "source": [
    "data = pd.read_csv(\"data/MS8_short_interest.csv\", index_col=False)"
   ]
  },
  {
   "cell_type": "code",
   "execution_count": 15,
   "id": "ecfb191c",
   "metadata": {},
   "outputs": [],
   "source": [
    "data = data[[\"date\", \"symbolCode\", \"daysToCoverQuantity\", \"currentShortPositionQuantity\", \"averageDailyVolumeQuantity\"]].copy()\n",
    "data.columns = [\"date\", \"ticker\", \"d2c\", \"shorts\", \"volume\" ]"
   ]
  },
  {
   "cell_type": "code",
   "execution_count": 16,
   "id": "08e1f0af",
   "metadata": {},
   "outputs": [],
   "source": [
    "sorted = data.sort_values(by=[\"ticker\", \"date\"])"
   ]
  },
  {
   "cell_type": "code",
   "execution_count": 18,
   "id": "c597cee0",
   "metadata": {},
   "outputs": [],
   "source": [
    "sorted.to_csv( \"data/MS8_short_interest_W.csv\", index=False )"
   ]
  },
  {
   "cell_type": "code",
   "execution_count": null,
   "id": "83beb17a",
   "metadata": {},
   "outputs": [],
   "source": []
  }
 ],
 "metadata": {
  "kernelspec": {
   "display_name": "finance",
   "language": "python",
   "name": "python3"
  },
  "language_info": {
   "codemirror_mode": {
    "name": "ipython",
    "version": 3
   },
   "file_extension": ".py",
   "mimetype": "text/x-python",
   "name": "python",
   "nbconvert_exporter": "python",
   "pygments_lexer": "ipython3",
   "version": "3.13.2"
  }
 },
 "nbformat": 4,
 "nbformat_minor": 5
}
