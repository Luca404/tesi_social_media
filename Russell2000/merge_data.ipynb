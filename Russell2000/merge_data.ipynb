{
 "cells": [
  {
   "cell_type": "code",
   "execution_count": null,
   "id": "a6598702",
   "metadata": {},
   "outputs": [],
   "source": [
    "import pandas as pd"
   ]
  },
  {
   "cell_type": "code",
   "execution_count": 6,
   "id": "ab4ff5ac",
   "metadata": {},
   "outputs": [],
   "source": [
    "data = pd.read_csv( \"./data/R2000_2025_short_interest.csv\" )"
   ]
  },
  {
   "cell_type": "code",
   "execution_count": null,
   "id": "7ceede5b",
   "metadata": {},
   "outputs": [],
   "source": [
    "df = data[[\"symbolCode\", \"month\", \"currentShortPositionQuantity\", \"changePercent\", \"daysToCoverQuantity\"]]"
   ]
  },
  {
   "cell_type": "code",
   "execution_count": 13,
   "id": "c7884e3d",
   "metadata": {},
   "outputs": [],
   "source": [
    "df.columns = [\"Ticker\", \"Month\", \"ShortPositions\", \"Change%\", \"DaysToCover\"]"
   ]
  },
  {
   "cell_type": "code",
   "execution_count": 14,
   "id": "bccdc40c",
   "metadata": {},
   "outputs": [
    {
     "data": {
      "text/html": [
       "<div>\n",
       "<style scoped>\n",
       "    .dataframe tbody tr th:only-of-type {\n",
       "        vertical-align: middle;\n",
       "    }\n",
       "\n",
       "    .dataframe tbody tr th {\n",
       "        vertical-align: top;\n",
       "    }\n",
       "\n",
       "    .dataframe thead th {\n",
       "        text-align: right;\n",
       "    }\n",
       "</style>\n",
       "<table border=\"1\" class=\"dataframe\">\n",
       "  <thead>\n",
       "    <tr style=\"text-align: right;\">\n",
       "      <th></th>\n",
       "      <th>Ticker</th>\n",
       "      <th>Month</th>\n",
       "      <th>ShortPositions</th>\n",
       "      <th>Change%</th>\n",
       "      <th>DaysToCover</th>\n",
       "    </tr>\n",
       "  </thead>\n",
       "  <tbody>\n",
       "    <tr>\n",
       "      <th>0</th>\n",
       "      <td>AAMI</td>\n",
       "      <td>2025-01-01</td>\n",
       "      <td>1777502</td>\n",
       "      <td>7.42</td>\n",
       "      <td>14.12</td>\n",
       "    </tr>\n",
       "    <tr>\n",
       "      <th>1</th>\n",
       "      <td>AAMI</td>\n",
       "      <td>2025-02-01</td>\n",
       "      <td>436195</td>\n",
       "      <td>-75.49</td>\n",
       "      <td>2.88</td>\n",
       "    </tr>\n",
       "    <tr>\n",
       "      <th>2</th>\n",
       "      <td>AAMI</td>\n",
       "      <td>2025-03-01</td>\n",
       "      <td>501824</td>\n",
       "      <td>49.61</td>\n",
       "      <td>1.84</td>\n",
       "    </tr>\n",
       "    <tr>\n",
       "      <th>3</th>\n",
       "      <td>AAMI</td>\n",
       "      <td>2025-04-01</td>\n",
       "      <td>841145</td>\n",
       "      <td>36.40</td>\n",
       "      <td>3.49</td>\n",
       "    </tr>\n",
       "    <tr>\n",
       "      <th>4</th>\n",
       "      <td>AAMI</td>\n",
       "      <td>2025-05-01</td>\n",
       "      <td>488260</td>\n",
       "      <td>-31.75</td>\n",
       "      <td>1.83</td>\n",
       "    </tr>\n",
       "    <tr>\n",
       "      <th>...</th>\n",
       "      <td>...</td>\n",
       "      <td>...</td>\n",
       "      <td>...</td>\n",
       "      <td>...</td>\n",
       "      <td>...</td>\n",
       "    </tr>\n",
       "    <tr>\n",
       "      <th>23071</th>\n",
       "      <td>ZYXI</td>\n",
       "      <td>2025-01-01</td>\n",
       "      <td>4538628</td>\n",
       "      <td>-0.38</td>\n",
       "      <td>81.40</td>\n",
       "    </tr>\n",
       "    <tr>\n",
       "      <th>23072</th>\n",
       "      <td>ZYXI</td>\n",
       "      <td>2025-02-01</td>\n",
       "      <td>4414453</td>\n",
       "      <td>-1.57</td>\n",
       "      <td>53.08</td>\n",
       "    </tr>\n",
       "    <tr>\n",
       "      <th>23073</th>\n",
       "      <td>ZYXI</td>\n",
       "      <td>2025-03-01</td>\n",
       "      <td>3780654</td>\n",
       "      <td>-1.27</td>\n",
       "      <td>10.73</td>\n",
       "    </tr>\n",
       "    <tr>\n",
       "      <th>23074</th>\n",
       "      <td>ZYXI</td>\n",
       "      <td>2025-04-01</td>\n",
       "      <td>3779936</td>\n",
       "      <td>-1.14</td>\n",
       "      <td>15.58</td>\n",
       "    </tr>\n",
       "    <tr>\n",
       "      <th>23075</th>\n",
       "      <td>ZYXI</td>\n",
       "      <td>2025-05-01</td>\n",
       "      <td>3982470</td>\n",
       "      <td>2.12</td>\n",
       "      <td>22.27</td>\n",
       "    </tr>\n",
       "  </tbody>\n",
       "</table>\n",
       "<p>23076 rows × 5 columns</p>\n",
       "</div>"
      ],
      "text/plain": [
       "      Ticker       Month  ShortPositions  Change%  DaysToCover\n",
       "0       AAMI  2025-01-01         1777502     7.42        14.12\n",
       "1       AAMI  2025-02-01          436195   -75.49         2.88\n",
       "2       AAMI  2025-03-01          501824    49.61         1.84\n",
       "3       AAMI  2025-04-01          841145    36.40         3.49\n",
       "4       AAMI  2025-05-01          488260   -31.75         1.83\n",
       "...      ...         ...             ...      ...          ...\n",
       "23071   ZYXI  2025-01-01         4538628    -0.38        81.40\n",
       "23072   ZYXI  2025-02-01         4414453    -1.57        53.08\n",
       "23073   ZYXI  2025-03-01         3780654    -1.27        10.73\n",
       "23074   ZYXI  2025-04-01         3779936    -1.14        15.58\n",
       "23075   ZYXI  2025-05-01         3982470     2.12        22.27\n",
       "\n",
       "[23076 rows x 5 columns]"
      ]
     },
     "execution_count": 14,
     "metadata": {},
     "output_type": "execute_result"
    }
   ],
   "source": [
    "df"
   ]
  },
  {
   "cell_type": "code",
   "execution_count": null,
   "id": "c3aee738",
   "metadata": {},
   "outputs": [],
   "source": []
  }
 ],
 "metadata": {
  "kernelspec": {
   "display_name": "finance",
   "language": "python",
   "name": "python3"
  },
  "language_info": {
   "codemirror_mode": {
    "name": "ipython",
    "version": 3
   },
   "file_extension": ".py",
   "mimetype": "text/x-python",
   "name": "python",
   "nbconvert_exporter": "python",
   "pygments_lexer": "ipython3",
   "version": "3.13.2"
  }
 },
 "nbformat": 4,
 "nbformat_minor": 5
}
